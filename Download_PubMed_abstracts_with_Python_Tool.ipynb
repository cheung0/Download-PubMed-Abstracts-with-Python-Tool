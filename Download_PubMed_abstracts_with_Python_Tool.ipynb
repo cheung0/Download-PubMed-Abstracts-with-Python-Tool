{
  "cells": [
    {
      "cell_type": "markdown",
      "metadata": {
        "id": "view-in-github",
        "colab_type": "text"
      },
      "source": [
        "<a href=\"https://colab.research.google.com/github/cheung0/PubMed-Abstract-Downloader/blob/main/Download_PubMed_abstracts_with_Python_Tool.ipynb\" target=\"_parent\"><img src=\"https://colab.research.google.com/assets/colab-badge.svg\" alt=\"Open In Colab\"/></a>"
      ]
    },
    {
      "cell_type": "markdown",
      "metadata": {
        "id": "GIQY5-TMtwLx"
      },
      "source": [
        "# Download PubMed abstracts with Python Tool"
      ]
    },
    {
      "cell_type": "markdown",
      "metadata": {
        "id": "gfmuJ1uvtwL0"
      },
      "source": [
        "If you're a medical student, or doctor, or are trying to read PubMed articles relating to your medicine or medical condition, this Python tool's for you. It downloads PubMed abstracts in a text file, allowing you to read them faster. It helps you save time!"
      ]
    },
    {
      "cell_type": "markdown",
      "metadata": {
        "id": "scpoQXUAtwLz"
      },
      "source": [
        "By: [Michael Cheung](https://www.linkedin.com/in/michael-cheung0/)\n",
        "\n",
        "Credits:\n",
        "[GitHub Repo](https://github.com/erilu/pubmed-abstract-compiler)"
      ]
    },
    {
      "cell_type": "markdown",
      "source": [
        "**Import packages**"
      ],
      "metadata": {
        "id": "N8IXv7A12TgW"
      }
    },
    {
      "cell_type": "code",
      "execution_count": 8,
      "metadata": {
        "id": "joR-u4aztwL_"
      },
      "outputs": [],
      "source": [
        "import csv\n",
        "import re\n",
        "import urllib\n",
        "from time import sleep\n",
        "import requests\n",
        "from bs4 import BeautifulSoup"
      ]
    },
    {
      "cell_type": "markdown",
      "source": [
        "**Specify search query**"
      ],
      "metadata": {
        "id": "piSPudG070Dh"
      }
    },
    {
      "cell_type": "code",
      "execution_count": 9,
      "metadata": {
        "colab": {
          "base_uri": "https://localhost:8080/"
        },
        "id": "pls5xKI2twMA",
        "outputId": "35938945-70f8-4b81-f56b-c825c4ed0ede"
      },
      "outputs": [
        {
          "metadata": {
            "tags": null
          },
          "name": "stdout",
          "output_type": "stream",
          "text": [
            "Query: \"Creatine+Monohydrate\"\n"
          ]
        }
      ],
      "source": [
        "# Specify your search query here. Works on single words or multiple words.\n",
        "# query = 'P2RY8'\n",
        "query = 'Creatine Monohydrate'\n",
        "\n",
        "# Formats query in correct format\n",
        "def format_query(search_query):\n",
        "    if ' ' not in search_query:\n",
        "        query = search_query\n",
        "    else:\n",
        "        query = '\"' + '+'.join(search_query.split()) + '\"'\n",
        "    return query\n",
        "\n",
        "query = format_query(query)\n",
        "print(\"Query: \" + query)"
      ]
    },
    {
      "cell_type": "markdown",
      "source": [
        "**Url with abstract ids**"
      ],
      "metadata": {
        "id": "oICGunYQ9m5e"
      }
    },
    {
      "cell_type": "code",
      "execution_count": 10,
      "metadata": {
        "colab": {
          "base_uri": "https://localhost:8080/"
        },
        "id": "RsgDHOAwtwMB",
        "outputId": "354b204a-3546-4570-e3d2-49a7a81706b8"
      },
      "outputs": [
        {
          "metadata": {
            "tags": null
          },
          "name": "stdout",
          "output_type": "stream",
          "text": [
            "http://eutils.ncbi.nlm.nih.gov/entrez/eutils/esearch.fcgi?db=pubmed&term=\"Creatine+Monohydrate\"&usehistory=y&rettype=json\n"
          ]
        }
      ],
      "source": [
        "# common settings between esearch and efetch\n",
        "base_url = 'http://eutils.ncbi.nlm.nih.gov/entrez/eutils/'\n",
        "db = 'db=pubmed'\n",
        "\n",
        "# esearch specific settings\n",
        "search_eutil = 'esearch.fcgi?'\n",
        "search_term = '&term=' + query\n",
        "search_usehistory = '&usehistory=y'\n",
        "search_rettype = '&rettype=json'\n",
        "\n",
        "search_url = base_url+search_eutil+db+search_term+search_usehistory+search_rettype\n",
        "print(search_url)\n",
        "\n",
        "f = urllib.request.urlopen(search_url)\n",
        "search_data = f.read().decode('utf-8')\n",
        "\n",
        "# obtain total abstract count\n",
        "total_abstract_count = int(re.findall(\"<Count>(\\d+?)</Count>\",search_data)[0])\n",
        "\n",
        "# obtain webenv and querykey settings for efetch command\n",
        "fetch_webenv = \"&WebEnv=\" + re.findall (\"<WebEnv>(\\S+)<\\/WebEnv>\", search_data)[0]\n",
        "fetch_querykey = \"&query_key=\" + re.findall(\"<QueryKey>(\\d+?)</QueryKey>\",search_data)[0]"
      ]
    },
    {
      "cell_type": "markdown",
      "metadata": {
        "id": "9QCy3NkqtwMC"
      },
      "source": [
        "**Url with abstract summaries**\n",
        "\n",
        "You can further filter results by changing optional values. For example, change retmax (return max) to limit amount of abstracts."
      ]
    },
    {
      "cell_type": "code",
      "execution_count": 11,
      "metadata": {
        "colab": {
          "base_uri": "https://localhost:8080/"
        },
        "id": "lB5Z7e5HtwMC",
        "outputId": "ea6e3bc5-6203-4d0c-ca36-2e1e97f58862"
      },
      "outputs": [
        {
          "metadata": {
            "tags": null
          },
          "name": "stdout",
          "output_type": "stream",
          "text": [
            "http://eutils.ncbi.nlm.nih.gov/entrez/eutils/efetch.fcgi?db=pubmed&query_key=1&WebEnv=MCID_65af63a157600d0bec5c1d31&retstart=0&retmax=100&retmode=text&rettype=abstract\n"
          ]
        }
      ],
      "source": [
        "# other efetch settings\n",
        "fetch_eutil = 'efetch.fcgi?'\n",
        "retmax = 100\n",
        "retstart = 0\n",
        "fetch_retstart = \"&retstart=\" + str(retstart)\n",
        "fetch_retmax = \"&retmax=\" + str(retmax)\n",
        "fetch_retmode = \"&retmode=text\"\n",
        "fetch_rettype = \"&rettype=abstract\"\n",
        "\n",
        "fetch_url = base_url+fetch_eutil+db+fetch_querykey+fetch_webenv+fetch_retstart+fetch_retmax+fetch_retmode+fetch_rettype\n",
        "print(fetch_url)"
      ]
    },
    {
      "cell_type": "markdown",
      "source": [
        "**Download the abstracts into a text file**"
      ],
      "metadata": {
        "id": "aZM-AgyB6Z-d"
      }
    },
    {
      "cell_type": "code",
      "source": [
        "def download_webpage(url):\n",
        "    response = requests.get(url)\n",
        "    if response.status_code == 200:\n",
        "        soup = BeautifulSoup(response.content, 'html.parser')\n",
        "        text = soup.get_text()\n",
        "        return text\n",
        "    else:\n",
        "        print(\"Failed to download.\")\n",
        "        return None\n",
        "\n",
        "def save_text_to_file(text, filename):\n",
        "    with open(filename, 'w', encoding='utf-8') as file:\n",
        "        file.write(text)\n",
        "    print(\"Text saved to\", filename)\n",
        "\n",
        "# Example usage:\n",
        "url = fetch_url\n",
        "filename = query + \" PubMed Abstracts.txt\"\n",
        "\n",
        "webpage_text = download_webpage(url)\n",
        "if webpage_text:\n",
        "    save_text_to_file(webpage_text, filename)"
      ],
      "metadata": {
        "colab": {
          "base_uri": "https://localhost:8080/"
        },
        "id": "n_phkXk-yCV3",
        "outputId": "611604c7-70f2-426f-9003-718b7ceeb3e7"
      },
      "execution_count": 12,
      "outputs": [
        {
          "metadata": {
            "tags": null
          },
          "name": "stdout",
          "output_type": "stream",
          "text": [
            "Text saved to \"Creatine+Monohydrate\" PubMed Abstracts.txt\n"
          ]
        }
      ]
    }
  ],
  "metadata": {
    "kernelspec": {
      "display_name": "Python 3",
      "language": "python",
      "name": "python3"
    },
    "language_info": {
      "codemirror_mode": {
        "name": "ipython",
        "version": 3
      },
      "file_extension": ".py",
      "mimetype": "text/x-python",
      "name": "python",
      "nbconvert_exporter": "python",
      "pygments_lexer": "ipython3",
      "version": "3.6.4"
    },
    "colab": {
      "provenance": [],
      "include_colab_link": true
    }
  },
  "nbformat": 4,
  "nbformat_minor": 0
}